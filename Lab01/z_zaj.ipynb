{
 "cells": [
  {
   "cell_type": "markdown",
   "metadata": {},
   "source": [
    "# Kryptografia klasyczna (od starożytności do czasów współczesnych)\n",
    "### Literatura:\n",
    "1. Księga szyfrów, Simon Singh, Świat książki, 2001\n",
    "2. Łamacze kodów, David Kahn, WNT, 2004"
   ]
  },
  {
   "cell_type": "markdown",
   "metadata": {},
   "source": [
    "## Szyfr Cezara\n",
    "--------------\n",
    "Szyfr Cezara oczywiście nie zawdzięcza swego istnienia Juliuszowi Cezarowi. Został przezeń jedynie wspomniany w pamiętnikach o wojnach galijskich. Prawdopodobnie była to dobrze znana metoda w tym czasie."
   ]
  },
  {
   "cell_type": "code",
   "execution_count": 4,
   "metadata": {},
   "outputs": [
    {
     "name": "stdout",
     "output_type": "stream",
     "text": [
      "Tekst jawny:  Zorro fly zealotry zipper\n",
      "Szyfrogram:  odggduanotpadignoxeetg (spacje usunięte)\n",
      "Odszyfrowana wiadomość:  zorroflyzealotryzipper (spacje usunięte)\n"
     ]
    }
   ],
   "source": [
    "# alfabet jawny i szyfrowy \n",
    "alphabets = ['a','b', 'c', 'd', 'e', 'f', 'g', 'h', 'i', 'j', 'k', 'l', 'm', 'n', 'o', 'p',\n",
    "            'q', 'r', 's', 't', 'u', 'v', 'w', 'x', 'y', 'z']\n",
    "\n",
    "# zachowujemy długość alfabetu w zmiennej dla wygody\n",
    "alphabet_size = len(alphabets)\n",
    "\n",
    "# tekst, który będziemy szyfrować\n",
    "plaintext = \"Zorro fly zealotry zipper\"\n",
    "\n",
    "# zmienna, do której zapiszemy zaszyfrowany tekst\n",
    "ciphertext = \"\"\n",
    "\n",
    "#przesunięcie permutacji, czyli klucz szyfrowania\n",
    "key = 15 \n",
    "\n",
    "# wypisujemy tekst jawny\n",
    "print(\"Tekst jawny: \", plaintext)\n",
    "\n",
    "# rozdzielamy string plaintext na tablicę słów (pozbywamy się spacji) i na każdym słowie wykonujemy:\n",
    "for word in plaintext.lower().split():\n",
    "    # na każdej literze w słowie:\n",
    "    for char in word:\n",
    "        # do ciphertext dopisujemy litere odpowiadającą naszej przesuniętej o klucz\n",
    "        ciphertext = ciphertext + alphabets[(alphabets.index(char) + key) % alphabet_size]\n",
    "    \n",
    "# wypisujemy zaszyfrowany tekst\n",
    "print(\"Szyfrogram: \",  ciphertext, \"(spacje usunięte)\")\n",
    "\n",
    "# zmienna, do której zapiszemy zdeszyfrowany tekst\n",
    "decodedtext = \"\"\n",
    "\n",
    "# na każdej literze w cyphertext:\n",
    "for char in ciphertext:\n",
    "    # do decodedtext dopisujemy litere odpowiadającą naszej\n",
    "    # zaszyfrowanej literze przesuniętej o klucz w drugą stronę\n",
    "    decodedtext = decodedtext + alphabets[(alphabets.index(char)- key) % alphabet_size]\n",
    "\n",
    "# wypisujemy zdeszyfrowany tekst\n",
    "print(\"Odszyfrowana wiadomość: \",  decodedtext,  \"(spacje usunięte)\")"
   ]
  },
  {
   "cell_type": "markdown",
   "metadata": {},
   "source": [
    "## Szyfr monoalfabetyczny: \n",
    "_danemu symbolowi alfabetu jawnego odpowiada dokładnie jeden i ten sam symbol alfabetu tajnego._"
   ]
  },
  {
   "cell_type": "markdown",
   "metadata": {},
   "source": [
    "### Zastanów się:\n",
    "1. Czy szyfr Cezara jest łatwy do złamania? Ile prób (testów przesunięć) trzeba aby złamać szyfr Cezara?\n",
    "2. Co to jest atak siłowy (__brute force__)?  \n",
    "3. Zaproponuj i zaimplementuj wariant szyfru Cezara, która wymaga wykonania większej liczby prób podczas ataku?  \n",
    "4. Oceń koszt ataku na ten wariant Cezara."
   ]
  },
  {
   "cell_type": "code",
   "execution_count": 9,
   "metadata": {},
   "outputs": [
    {
     "name": "stdout",
     "output_type": "stream",
     "text": [
      "Tekst jawny:  Zorro fly zealotry zipper\n",
      "Szyfrogram:  cdzzdmolcwuodbzlcxeewz (spacje usunięte)\n",
      "Odszyfrowana wiadomość:  zorroflyzealotryzipper (spacje usunięte)\n"
     ]
    }
   ],
   "source": [
    "# lepszy szyfr cezara (permutacyjny)\n",
    "\n",
    "# importujemy bibliotekę numpy as np\n",
    "import numpy as np\n",
    "\n",
    "# tekst, który będziemy szyfrować\n",
    "plaintext = \"Zorro fly zealotry zipper\"\n",
    "\n",
    "# alfabet jawny\n",
    "jawny = ['a','b', 'c', 'd', 'e', 'f', 'g', 'h', 'i', 'j', 'k', 'l', 'm', 'n', 'o', 'p',\n",
    "            'q', 'r', 's', 't', 'u', 'v', 'w', 'x', 'y', 'z']\n",
    "\n",
    "# tworzymy permutacje alfabetu jawnego - nasz alfabet szyfrowy, tym samym klucz\n",
    "tajny = np.random.permutation(jawny).tolist()\n",
    "\n",
    "# zmienna, do której zapiszemy zaszyfrowany tekst\n",
    "ciphertext = \"\"\n",
    "\n",
    "# wypisujemy tekst jawny\n",
    "print(\"Tekst jawny: \", plaintext)\n",
    "\n",
    "# rozdzielamy string plaintext na tablicę słów (pozbywamy się spacji) i na każdym słowie wykonujemy:\n",
    "for word in plaintext.lower().split():\n",
    "    # na każdej literze w słowie:\n",
    "    for char in word:\n",
    "        # do ciphertext dopisujemy litere odpowiadającą naszej przesuniętej o klucz\n",
    "        ciphertext = ciphertext + tajny[jawny.index(char) % len(jawny)]\n",
    "\n",
    "# wypisujemy zaszyfrowany tekst\n",
    "print(\"Szyfrogram: \",  ciphertext, \"(spacje usunięte)\")\n",
    "\n",
    "# zmienna, do której zapiszemy zdeszyfrowany tekst\n",
    "decodedtext = \"\"\n",
    "\n",
    "# na każdej literze w cyphertext:\n",
    "for char in ciphertext:\n",
    "    # do decodedtext dopisujemy litere odpowiadającą naszej\n",
    "    # zaszyfrowanej literze przesuniętej o klucz w drugą stronę\n",
    "    decodedtext = decodedtext + jawny[tajny.index(char) % len(jawny)]\n",
    "    \n",
    "# wypisujemy zdeszyfrowany tekst\n",
    "print(\"Odszyfrowana wiadomość: \",  decodedtext,  \"(spacje usunięte)\")"
   ]
  },
  {
   "cell_type": "markdown",
   "metadata": {},
   "source": [
    "## Kryptoanaliza szyfrów monoalfabetycznych\n",
    "\n",
    "Współcześnie kryptoanaliza szyfru Cezara jest trywialna. Można po prostu sprawdzić wszystkie 26 możliwych przesunięć. \n",
    "\n",
    "Szyfry monoalfabetyczne nie są także odporne na __kryptoanalizę statystyczną__. Znając rozkład częstości liter w tekstach napisanych w danym języku możemy odgadnąć przesunięcie obserwując minima i maxima w histogramach. \n",
    "\n",
    "W zasadzie kluczową sprawą w obu przypadkach jest znajomość języka, a w gruncie rzeczy alfabetu. "
   ]
  },
  {
   "cell_type": "markdown",
   "metadata": {},
   "source": [
    "# Problem\n",
    "1. Narysuj rozkład częstości występowania liter w języku angielskim (kod rysowania histogramu poniżej)"
   ]
  },
  {
   "cell_type": "code",
   "execution_count": 10,
   "metadata": {},
   "outputs": [
    {
     "data": {
      "image/png": "[encoded data removed]",
      "text/plain": [
       "<Figure size 1080x648 with 1 Axes>"
      ]
     },
     "metadata": {
      "needs_background": "light"
     },
     "output_type": "display_data"
    }
   ],
   "source": [
    "# Graf częstotliwości występowania liter w języku angielskim\n",
    "\n",
    "# z biblioteki matplotlib importujemy klasę pyplot jako plt\n",
    "from matplotlib import pyplot as plt\n",
    "# importujemy bibliotekę numpy as np\n",
    "import numpy as np\n",
    "\n",
    "# tablica alfabetu\n",
    "letters =   ['a',  'b',    'c',   'd',  'e',   'f',   'g',   'h',   'i',   'j',   'k',   'l',    'm',  'n',   'o',   'p',    'q',  'r',   's',   't',   'u',   'v',   'w',   'x',    'y',   'z']\n",
    "# tablica przechowująca częstotliwość występowania każdej litery\n",
    "frequency = [0.080, 0.015, 0.030, 0.040, 0.130, 0.020, 0.015, 0.060, 0.065, 0.005, 0.005, 0.035, 0.030, 0.070, 0.080, 0.020, 0.002, 0.065, 0.060, 0.090, 0.030, 0.010, 0.015, 0.005, 0.020, 0.002]\n",
    "# bierzemy tablicę alfabetu jako nasz opis wartości na osi x\n",
    "labels = np.arange(len(letters))\n",
    "# definiujemy rozmiar słupka w grafie\n",
    "plt.figure(figsize=(15,9))\n",
    "# podajemy dane dla osi x, osi y, przeźroczystość słupków i kolor ich krawędzi\n",
    "plt.bar(labels, frequency, alpha=0.5, edgecolor=\"green\")\n",
    "# ustawiamy tytuł osi x\n",
    "plt.xlabel('Alfabet')\n",
    "# przypisujemy słupki do wartości na osi x\n",
    "plt.xticks(np.arange(26), ('a','b', 'c', 'd', 'e', 'f', 'g', 'h', 'i', 'j', 'k', 'l', 'm', 'n', 'o', 'p', 'q', 'r', 's', 't', 'u', 'v', 'w', 'x', 'y', 'z'))\n",
    "# ustawiamy tytuł wykresu\n",
    "plt.title(\"Język angielski\");\n",
    "# ustawiamy tytuł osi y\n",
    "plt.ylabel('Częstość występowania')\n",
    "# pokazujemy wykres na ekranie\n",
    "plt.show()"
   ]
  },
  {
   "cell_type": "markdown",
   "metadata": {},
   "source": [
    "2. Dokonaj analizy częstości występowania liter w tekście jawnym i szyfrogramie (szyfr Cezara z dowolnym przesunięciem) dla tekstu w poniższym fragmencie kodu. Wyświetl wyniki podobnie jak powyżej. \n",
    "3. Dokonaj analizy częstości występowania liter w szyfrogramie wygenerowanym przez \"ulepszonego Cezara\""
   ]
  },
  {
   "cell_type": "code",
   "execution_count": 1,
   "metadata": {
    "scrolled": true
   },
   "outputs": [
    {
     "data": {
      "image/png": "[encoded data removed]",
      "text/plain": [
       "<Figure size 1080x648 with 1 Axes>"
      ]
     },
     "metadata": {
      "needs_background": "light"
     },
     "output_type": "display_data"
    },
    {
     "data": {
      "image/png": "[encoded data removed]",
      "text/plain": [
       "<Figure size 1080x648 with 1 Axes>"
      ]
     },
     "metadata": {
      "needs_background": "light"
     },
     "output_type": "display_data"
    },
    {
     "name": "stdout",
     "output_type": "stream",
     "text": [
      "['v', 'a', 'm', 'e', 'f', 'j', 'o', 'w', 'q', 'h', 'i', 'g', 'p', 'u', 'b', 'y', 'c', 't', 'd', 'z', 'l', 'x', 'r', 's', 'n', 'k']\n"
     ]
    },
    {
     "data": {
      "image/png": "[encoded data removed]",
      "text/plain": [
       "<Figure size 1080x648 with 1 Axes>"
      ]
     },
     "metadata": {
      "needs_background": "light"
     },
     "output_type": "display_data"
    }
   ],
   "source": [
    "# Porównanie histogramów plaintextu, szyfru cezara, szyfru permutacyjnego\n",
    "\n",
    "import numpy as np\n",
    "from collections import Counter as ctr\n",
    "from matplotlib import pyplot as plt\n",
    "\n",
    "plaintext = \"TobeornottobethatisthequestionWhethertisNoblerinthemindtosufferTheSlingsandArrowsofoutrageousFortuneOrtotakeArmsagainstaSeaoftroublesAndbyopposingendthem\"\n",
    "plaintext = plaintext.lower()\n",
    "\n",
    "alphabet = [\n",
    "    'a','b','c','d','e','f','g','h','i','j','k','l','m',\n",
    "    'n','o','p','q','r','s','t','u','v','w','x','y','z'\n",
    "]\n",
    "\n",
    "# policz częstość i wyświetl rozkłady (zwraca tablicę częstości liter jak opisana w poprzednim problemie)\n",
    "def count_freq(text, alph):\n",
    "    freq = [0 for i in alph]\n",
    "    for char in text:\n",
    "        freq[alph.index(char)]+= 1\n",
    "    return freq\n",
    "\n",
    "#############\n",
    "# PLAINTEXT #\n",
    "#############\n",
    "\n",
    "# liczymy częstotliwość występowania liter alfabetu w tekście i rysujemy wykres\n",
    "frequency = count_freq(plaintext, alphabet)\n",
    "labels = np.arange(len(alphabet))\n",
    "plt.figure(figsize=(15,9))\n",
    "plt.bar(labels, frequency, alpha=0.5, edgecolor=\"green\")\n",
    "plt.xlabel('Alfabet')\n",
    "plt.xticks(np.arange(26), ('a','b', 'c', 'd', 'e', 'f', 'g', 'h', 'i', 'j', 'k', 'l', 'm', 'n', 'o', 'p', 'q', 'r', 's', 't', 'u', 'v', 'w', 'x', 'y', 'z'))\n",
    "plt.title(\"Plaintext\")\n",
    "plt.ylabel('Częstość występowania')\n",
    "plt.show()\n",
    "\n",
    "#########\n",
    "# CEZAR #\n",
    "#########\n",
    "\n",
    "# szyfrujemy szyfrem cezara jak pokazane wcześniej\n",
    "ciphertext = \"\"\n",
    "\n",
    "key = 15\n",
    "\n",
    "for text in plaintext.lower().split():\n",
    "    for char in text:\n",
    "        ciphertext = ciphertext + alphabet[(alphabet.index(char) + key) % len(alphabet)]\n",
    "\n",
    "# liczymy częstotliwość występowania liter alfabetu w szyfrogramie i rysujemy wykres\n",
    "frequency = count_freq(ciphertext, alphabet)\n",
    "labels = np.arange(len(alphabet))\n",
    "plt.figure(figsize=(15,9))\n",
    "plt.bar(labels, frequency, alpha=0.5, edgecolor=\"green\")\n",
    "plt.xlabel('Alfabet')\n",
    "plt.xticks(np.arange(26), ('a','b', 'c', 'd', 'e', 'f', 'g', 'h', 'i', 'j', 'k', 'l', 'm', 'n', 'o', 'p', 'q', 'r', 's', 't', 'u', 'v', 'w', 'x', 'y', 'z'))\n",
    "plt.title(\"Zaszyfrowany Cezarem\")\n",
    "plt.ylabel('Częstość występowania')\n",
    "plt.show()\n",
    "\n",
    "################\n",
    "# PERMUTACYJNY #\n",
    "################\n",
    "\n",
    "# szyfrujemy szyfrem permutacyjnym jak pokazane wcześniej\n",
    "tajny = np.random.permutation(alphabet).tolist()\n",
    "\n",
    "ciphertext = \"\"\n",
    "\n",
    "key = 15\n",
    "\n",
    "for text in plaintext.lower().split():\n",
    "    for char in text:\n",
    "        ciphertext = ciphertext + tajny[(alphabet.index(char) + key) % len(alphabet)]\n",
    "\n",
    "# liczymy częstotliwość występowania liter alfabetu w szyfrogramie i rysujemy wykres\n",
    "frequency = count_freq(ciphertext, alphabet)\n",
    "labels = np.arange(len(alphabet))\n",
    "plt.figure(figsize=(15,9))\n",
    "plt.bar(labels, frequency, alpha=0.5, edgecolor=\"green\")\n",
    "plt.xlabel('Alfabet')\n",
    "plt.xticks(np.arange(26), ('a','b', 'c', 'd', 'e', 'f', 'g', 'h', 'i', 'j', 'k', 'l', 'm', 'n', 'o', 'p', 'q', 'r', 's', 't', 'u', 'v', 'w', 'x', 'y', 'z'))\n",
    "plt.title(\"Zaszyfrowany Permutacyjnym\")\n",
    "plt.ylabel('Częstość występowania')\n",
    "plt.show()"
   ]
  },
  {
   "cell_type": "markdown",
   "metadata": {},
   "source": [
    "### Przykład: \n",
    "Automatyczna kryptoanaliza tekst zaszyfrowanego zwykłym Cezarem"
   ]
  },
  {
   "cell_type": "code",
   "execution_count": 2,
   "metadata": {
    "scrolled": true
   },
   "outputs": [
    {
     "name": "stderr",
     "output_type": "stream",
     "text": [
      "[nltk_data] Downloading package words to\n",
      "[nltk_data]     C:\\Users\\LBK\\AppData\\Roaming\\nltk_data...\n",
      "[nltk_data]   Package words is already up-to-date!\n"
     ]
    },
    {
     "name": "stdout",
     "output_type": "stream",
     "text": [
      "Próba klucza:  25  .... pehhe\n",
      "Próba klucza:  10  .... etwwt\n",
      "Próba klucza:  2  .... mbeeb\n",
      "Próba klucza:  15  .... zorro\n",
      "\n",
      " Decoded string:  zorro\n"
     ]
    }
   ],
   "source": [
    "import nltk\n",
    "nltk.download('words')\n",
    "from nltk.corpus import words\n",
    "\n",
    "# zmienna przechowująca unikalne znaki z szyfru\n",
    "unique = []\n",
    "# zmienna przechowująca częstotliwość występowania danego znaku\n",
    "frequency = []\n",
    "psi = []\n",
    "# liczba przechowująca odkryty klucz\n",
    "key = 0\n",
    "value = 0.0\n",
    "exit = True\n",
    "\n",
    "# wprowadzenie szyfrogramu\n",
    "ciphertext = \"odggd\".lower()\n",
    "\n",
    "#wprowadzenie alfabetu\n",
    "alphabets = \"abcdefghijklmnopqrstuvwxyz\"\n",
    "\n",
    "# tablica częstotliwości liter w alfabecie\n",
    "english_frequency_prob = [0.080, 0.015, 0.030, 0.040, 0.130, 0.020, 0.015, 0.060, 0.065, 0.005, \n",
    "                          0.005, 0.035, 0.030, 0.070, 0.080, 0.020, 0.002, 0.065, 0.060, 0.090, \n",
    "                          0.030, 0.010, 0.015, 0.005, 0.020, 0.002]\n",
    "\n",
    "\n",
    "# dla każdej litery w szyfrogramie\n",
    "for char in ciphertext: #lista liter w szyfrogramie\n",
    "    # sprawdzamy czy nie ma jej w liście unikalnych i czy jest alfanumeryczna\n",
    "    if (char not in unique) and (char.isalpha()):\n",
    "        unique.append(char)\n",
    "        \n",
    "only_alphabets = [char for char in ciphertext if char.isalpha()]  #tylko litery\n",
    "\n",
    "for unique_char in unique: #częstość liter w tekście \n",
    "     frequency.append(ciphertext.count(unique_char) / (float)(len(only_alphabets)))\n",
    "\n",
    "for i in range(0,26): #oblicz dopasowanie\n",
    "    for unique_char in unique:\n",
    "         value = value + frequency[unique.index(unique_char)] * english_frequency_prob[alphabets.index(unique_char) - i]\n",
    "    psi.append(value)  \n",
    "    value = 0.0\n",
    "    \n",
    "sorted_psi = psi[:] # sortuj dopasowanie\n",
    "sorted_psi.sort(reverse=True)\n",
    "\n",
    "decoded_string = \"\"\n",
    "for i in range(0, 26):\n",
    "    key = psi.index(sorted_psi[i])\n",
    "    decoded_string = \"\"\n",
    "    for char in ciphertext:\n",
    "        if (char != ' '):\n",
    "            decoded_string = decoded_string + alphabets[alphabets.index(char) - key]\n",
    "        else:\n",
    "            decoded_string = decoded_string + \" \"\n",
    "            \n",
    "    print(\"Próba klucza: \", key, \" ....\", decoded_string)\n",
    "    \n",
    "    for word in decoded_string.split():\n",
    "        if word not in words.words(): #czy szyfrowanie ma sens\n",
    "            exit = False\n",
    "        else:\n",
    "            exit = True\n",
    "    if exit:\n",
    "        break\n",
    "        \n",
    "print(\"\\n\", \"Decoded string: \", decoded_string)"
   ]
  },
  {
   "cell_type": "markdown",
   "metadata": {},
   "source": [
    "## Podsumowanie \n",
    "Główną słabością szyfrów monoalfabetycznych jest stałość przekształcenia, dzięki czemu możliwe jest łatwe zaobserwowanie regularności.\n",
    "\n",
    "Rozwiązaniem może być zmiana alfabetów w trakcie szyfrowania. Dla uproszczenia wystarczy zmieniać jedynie porządek liter. \n",
    "\n",
    "# Problem\n",
    "1. Napisać program, który zmienia alfabet szyfrowania po każdej literze.\n",
    "_Co będzie potrzebne oprócz tekst jawnego?_\n"
   ]
  },
  {
   "cell_type": "code",
   "execution_count": 1,
   "metadata": {},
   "outputs": [
    {
     "name": "stdout",
     "output_type": "stream",
     "text": [
      "Tekst jawny:  To be or not to be that is the question\n",
      "Whether tis Nobler in the mind to suffer\n",
      "The Slings and Arrows of outrageous Fortune\n",
      "Or to take Arms against a Sea of troubles\n",
      "And by opposing end them\n",
      "Szyfrogram:  ECOKYVLZHGULIRSOGOCXFPEHKCXGZBJNOXFPFGOCRMMZRXSRRSSZOXHRZGHLPIPEVRYVMLRGNTNEPCCJYYJMFHEGQIMFGSUBXSYSBXDSRLYRGBQQLUNOXWRLGRGYJRCCHHVIQLBQHISNACFOXKCYRGNOQ (uppercase, spacje usunięte)\n",
      "Odszyfrowana wiadomość:  TOBEORNOTTOBETHATISTHEQUESTIONWHETHERTISNOBLERINTHEMINDTOSUFFERTHESLINGSANDARROWSOFOUTRAGEOUSFORTUNEORTOTAKEARMSAGAINSTASEAOFTROUBLESANDBYOPPOSINGENDTHEM (uppercase, spacje usunięte)\n"
     ]
    },
    {
     "data": {
      "image/png": "[encoded data removed]",
      "text/plain": [
       "<Figure size 1080x648 with 1 Axes>"
      ]
     },
     "metadata": {
      "needs_background": "light"
     },
     "output_type": "display_data"
    },
    {
     "data": {
      "image/png": "[encoded data removed]",
      "text/plain": [
       "<Figure size 1080x648 with 1 Axes>"
      ]
     },
     "metadata": {
      "needs_background": "light"
     },
     "output_type": "display_data"
    }
   ],
   "source": [
    "# Szyfr Vigenere'a\n",
    "\n",
    "import numpy as np\n",
    "from matplotlib import pyplot as plt\n",
    "\n",
    "alphabet = \"ABCDEFGHIJKLMNOPQRSTUVWXYZ\".upper()\n",
    "\n",
    "# nasz tekst do zaszyfrowania\n",
    "plaintext = '''To be or not to be that is the question\n",
    "Whether tis Nobler in the mind to suffer\n",
    "The Slings and Arrows of outrageous Fortune\n",
    "Or to take Arms against a Sea of troubles\n",
    "And by opposing end them'''\n",
    "\n",
    "# zmienna przechowująca nasz klucz\n",
    "keytext = \"LONGKEY\"\n",
    "\n",
    "# zmienna przechowująca nasz szyfrogram\n",
    "ciphertext = \"\"\n",
    "\n",
    "print(\"Tekst jawny: \", plaintext)\n",
    "\n",
    "\n",
    "ctr = 0\n",
    "for text in plaintext.upper().split():\n",
    "    for char in text:\n",
    "        key = alphabet.index(keytext[ctr])\n",
    "        ciphertext = ciphertext + alphabet[(alphabet.index(char) + key) % len(alphabet)]\n",
    "        ctr = (ctr + 1) % len(keytext)\n",
    "print(\"Szyfrogram: \",  ciphertext, \"(uppercase, spacje usunięte)\")\n",
    "\n",
    "decodedtext = \"\"\n",
    "ctr = 0\n",
    "for text in ciphertext:\n",
    "    for char in text:\n",
    "        key = alphabet.index(keytext[ctr])\n",
    "        decodedtext = decodedtext + alphabet[(alphabet.index(char) - key) % len(alphabet)]\n",
    "        ctr = (ctr + 1) % len(keytext)\n",
    "print(\"Odszyfrowana wiadomość: \",  decodedtext,  \"(uppercase, spacje usunięte)\")\n",
    "\n",
    "def count_freq(text, alph):\n",
    "    freq = [0 for i in alph]\n",
    "    for char in text:\n",
    "        freq[alph.index(char)]+= 1\n",
    "    return freq\n",
    "\n",
    "\n",
    "frequency = count_freq(decodedtext, alphabet)\n",
    "labels = np.arange(len(alphabet))\n",
    "plt.figure(figsize=(15,9))\n",
    "plt.bar(labels, frequency, alpha=0.5, edgecolor=\"green\")\n",
    "plt.xlabel('Alfabet')\n",
    "plt.xticks(np.arange(26), ('a','b', 'c', 'd', 'e', 'f', 'g', 'h', 'i', 'j', 'k', 'l', 'm', 'n', 'o', 'p', 'q', 'r', 's', 't', 'u', 'v', 'w', 'x', 'y', 'z'))\n",
    "plt.title(\"Plaintext\")\n",
    "plt.ylabel('Częstość występowania')\n",
    "plt.show()\n",
    "\n",
    "\n",
    "frequency = count_freq(ciphertext, alphabet)\n",
    "labels = np.arange(len(alphabet))\n",
    "plt.figure(figsize=(15,9))\n",
    "plt.bar(labels, frequency, alpha=0.5, edgecolor=\"green\")\n",
    "plt.xlabel('Alfabet')\n",
    "plt.xticks(np.arange(26), ('a','b', 'c', 'd', 'e', 'f', 'g', 'h', 'i', 'j', 'k', 'l', 'm', 'n', 'o', 'p', 'q', 'r', 's', 't', 'u', 'v', 'w', 'x', 'y', 'z'))\n",
    "plt.title(\"Zaszyfrowany\")\n",
    "plt.ylabel('Częstość występowania')\n",
    "plt.show()"
   ]
  },
  {
   "cell_type": "markdown",
   "metadata": {},
   "source": [
    "### Zastanów się:\n",
    "1. Sprawdź jak wygląda histogram szyfrogrami. \n",
    "2. Zastanów się jakie znaczenia ma długość klucza dla bezpieczeństwa szyfrowania.\n",
    "3. Czy powtarzanie klucza można wykorzystać dla potrzeb kryptoanalizy? \n",
    "4. Jaki klucz gwarantowałby bezpieczeństwo?\n",
    "5. Jaki rozkład częstości symboli szyfrogramu nie ujawni żadnych przydatnych danych kryptoanalitykowi? \n",
    "\n",
    "### Szyfr polialfabetyczny \n",
    "_Szyfr używający wielu alfabetów szyfrowych. W trakcie szyfrowania te same litery w tekście jawnym_\n",
    "\n",
    "### Szyfr doskonały (według Clouda Shannona):\n",
    "1. Jakie warunki musi spełniać szyfr-nie-do-złamania? "
   ]
  },
  {
   "cell_type": "markdown",
   "metadata": {},
   "source": [
    "## Zadanie (dodatkowe, na ocenę)\n",
    "1. Napisz notebook jupyter, które implementuje klasyczne szyfry mechaniczne: Enigma, szyfr Playfair, szyfr maszyny Lorenza. W sieci można łatwo znaleźć gotowe kody, wiec przy ocenie zwracam uwagę no dokładne omówienie kodu, przejrzystość, komentarze etc. "
   ]
  }
 ],
 "metadata": {
  "kernelspec": {
   "display_name": "Python 3 (ipykernel)",
   "language": "python",
   "name": "python3"
  },
  "language_info": {
   "codemirror_mode": {
    "name": "ipython",
    "version": 3
   },
   "file_extension": ".py",
   "mimetype": "text/x-python",
   "name": "python",
   "nbconvert_exporter": "python",
   "pygments_lexer": "ipython3",
   "version": "3.9.6"
  }
 },
 "nbformat": 4,
 "nbformat_minor": 1
}
